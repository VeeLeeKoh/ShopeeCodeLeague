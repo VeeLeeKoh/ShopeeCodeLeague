{
 "cells": [
  {
   "cell_type": "markdown",
   "metadata": {
    "colab": {
     "base_uri": "https://localhost:8080/",
     "height": 123
    },
    "colab_type": "code",
    "executionInfo": {
     "elapsed": 22379,
     "status": "ok",
     "timestamp": 1592484972894,
     "user": {
      "displayName": "Vee Lee Koh",
      "photoUrl": "https://lh3.googleusercontent.com/a-/AOh14Gjj2fkNUadlioLjx3UkcyKd5Ff-x9Vb-9bwf55Q6g=s64",
      "userId": "02870426395196104300"
     },
     "user_tz": -480
    },
    "id": "H1sipLx05F8s",
    "outputId": "faf83170-35be-40cb-9da3-f0cb65975647"
   },
   "source": [
    "# Solution for Order Brushing Challenge under the Shopee Code League\n",
    "#### Vee Lee Koh, Chun Hong Khu, Chun Wye Ng & Li Hong Liew\n",
    "---\n",
    "This notebook is a sample solution for the Order Brushing Challenge under the Shopee Code League. <br> The competition was hosted on Kaggle. \n"
   ]
  },
  {
   "cell_type": "code",
   "execution_count": 0,
   "metadata": {
    "colab": {
     "base_uri": "https://localhost:8080/",
     "height": 71
    },
    "colab_type": "code",
    "executionInfo": {
     "elapsed": 1414,
     "status": "ok",
     "timestamp": 1592484978698,
     "user": {
      "displayName": "Vee Lee Koh",
      "photoUrl": "https://lh3.googleusercontent.com/a-/AOh14Gjj2fkNUadlioLjx3UkcyKd5Ff-x9Vb-9bwf55Q6g=s64",
      "userId": "02870426395196104300"
     },
     "user_tz": -480
    },
    "id": "_l8JH-1S5W8C",
    "outputId": "b3faa548-a62b-4cc9-93af-99561515fa66"
   },
   "outputs": [
    {
     "name": "stderr",
     "output_type": "stream",
     "text": [
      "/usr/local/lib/python3.6/dist-packages/statsmodels/tools/_testing.py:19: FutureWarning: pandas.util.testing is deprecated. Use the functions in the public API at pandas.testing instead.\n",
      "  import pandas.util.testing as tm\n"
     ]
    }
   ],
   "source": [
    "# Import Statements\n",
    "import pandas as pd\n",
    "import numpy as np"
   ]
  },
  {
   "cell_type": "code",
   "execution_count": 0,
   "metadata": {
    "colab": {
     "base_uri": "https://localhost:8080/",
     "height": 413
    },
    "colab_type": "code",
    "executionInfo": {
     "elapsed": 1949,
     "status": "ok",
     "timestamp": 1592484981297,
     "user": {
      "displayName": "Vee Lee Koh",
      "photoUrl": "https://lh3.googleusercontent.com/a-/AOh14Gjj2fkNUadlioLjx3UkcyKd5Ff-x9Vb-9bwf55Q6g=s64",
      "userId": "02870426395196104300"
     },
     "user_tz": -480
    },
    "id": "h9slrHjZ5nfN",
    "outputId": "44f03928-dbaa-4be8-a06e-1a8ef81bf182"
   },
   "outputs": [
    {
     "data": {
      "text/html": [
       "<div>\n",
       "<style scoped>\n",
       "    .dataframe tbody tr th:only-of-type {\n",
       "        vertical-align: middle;\n",
       "    }\n",
       "\n",
       "    .dataframe tbody tr th {\n",
       "        vertical-align: top;\n",
       "    }\n",
       "\n",
       "    .dataframe thead th {\n",
       "        text-align: right;\n",
       "    }\n",
       "</style>\n",
       "<table border=\"1\" class=\"dataframe\">\n",
       "  <thead>\n",
       "    <tr style=\"text-align: right;\">\n",
       "      <th></th>\n",
       "      <th>orderid</th>\n",
       "      <th>shopid</th>\n",
       "      <th>userid</th>\n",
       "      <th>event_time</th>\n",
       "    </tr>\n",
       "  </thead>\n",
       "  <tbody>\n",
       "    <tr>\n",
       "      <th>0</th>\n",
       "      <td>31076582227611</td>\n",
       "      <td>93950878</td>\n",
       "      <td>30530270</td>\n",
       "      <td>2019-12-27 00:23:03</td>\n",
       "    </tr>\n",
       "    <tr>\n",
       "      <th>1</th>\n",
       "      <td>31118059853484</td>\n",
       "      <td>156423439</td>\n",
       "      <td>46057927</td>\n",
       "      <td>2019-12-27 11:54:20</td>\n",
       "    </tr>\n",
       "    <tr>\n",
       "      <th>2</th>\n",
       "      <td>31123355095755</td>\n",
       "      <td>173699291</td>\n",
       "      <td>67341739</td>\n",
       "      <td>2019-12-27 13:22:35</td>\n",
       "    </tr>\n",
       "    <tr>\n",
       "      <th>3</th>\n",
       "      <td>31122059872723</td>\n",
       "      <td>63674025</td>\n",
       "      <td>149380322</td>\n",
       "      <td>2019-12-27 13:01:00</td>\n",
       "    </tr>\n",
       "    <tr>\n",
       "      <th>4</th>\n",
       "      <td>31117075665123</td>\n",
       "      <td>127249066</td>\n",
       "      <td>149493217</td>\n",
       "      <td>2019-12-27 11:37:55</td>\n",
       "    </tr>\n",
       "    <tr>\n",
       "      <th>...</th>\n",
       "      <td>...</td>\n",
       "      <td>...</td>\n",
       "      <td>...</td>\n",
       "      <td>...</td>\n",
       "    </tr>\n",
       "    <tr>\n",
       "      <th>222745</th>\n",
       "      <td>31245479170194</td>\n",
       "      <td>110868129</td>\n",
       "      <td>193218997</td>\n",
       "      <td>2019-12-28 23:17:59</td>\n",
       "    </tr>\n",
       "    <tr>\n",
       "      <th>222746</th>\n",
       "      <td>31230440360374</td>\n",
       "      <td>91639906</td>\n",
       "      <td>3541807</td>\n",
       "      <td>2019-12-28 19:07:20</td>\n",
       "    </tr>\n",
       "    <tr>\n",
       "      <th>222747</th>\n",
       "      <td>31191471145838</td>\n",
       "      <td>29391773</td>\n",
       "      <td>135908070</td>\n",
       "      <td>2019-12-28 08:17:52</td>\n",
       "    </tr>\n",
       "    <tr>\n",
       "      <th>222748</th>\n",
       "      <td>31198471732255</td>\n",
       "      <td>61556313</td>\n",
       "      <td>27306783</td>\n",
       "      <td>2019-12-28 10:14:31</td>\n",
       "    </tr>\n",
       "    <tr>\n",
       "      <th>222749</th>\n",
       "      <td>31164356713822</td>\n",
       "      <td>147941492</td>\n",
       "      <td>127484153</td>\n",
       "      <td>2019-12-28 00:45:56</td>\n",
       "    </tr>\n",
       "  </tbody>\n",
       "</table>\n",
       "<p>222750 rows × 4 columns</p>\n",
       "</div>"
      ],
      "text/plain": [
       "               orderid     shopid     userid           event_time\n",
       "0       31076582227611   93950878   30530270  2019-12-27 00:23:03\n",
       "1       31118059853484  156423439   46057927  2019-12-27 11:54:20\n",
       "2       31123355095755  173699291   67341739  2019-12-27 13:22:35\n",
       "3       31122059872723   63674025  149380322  2019-12-27 13:01:00\n",
       "4       31117075665123  127249066  149493217  2019-12-27 11:37:55\n",
       "...                ...        ...        ...                  ...\n",
       "222745  31245479170194  110868129  193218997  2019-12-28 23:17:59\n",
       "222746  31230440360374   91639906    3541807  2019-12-28 19:07:20\n",
       "222747  31191471145838   29391773  135908070  2019-12-28 08:17:52\n",
       "222748  31198471732255   61556313   27306783  2019-12-28 10:14:31\n",
       "222749  31164356713822  147941492  127484153  2019-12-28 00:45:56\n",
       "\n",
       "[222750 rows x 4 columns]"
      ]
     },
     "execution_count": 3,
     "metadata": {
      "tags": []
     },
     "output_type": "execute_result"
    }
   ],
   "source": [
    "# Load the comma delimited data file\n",
    "path = \"Order_data.csv\"\n",
    "initial_data = pd.read_csv(path) \n",
    "initial_data"
   ]
  },
  {
   "cell_type": "code",
   "execution_count": 0,
   "metadata": {
    "colab": {},
    "colab_type": "code",
    "id": "7NudU_3uWe_H"
   },
   "outputs": [],
   "source": [
    "# initial_data.describe()"
   ]
  },
  {
   "cell_type": "code",
   "execution_count": 0,
   "metadata": {
    "colab": {
     "base_uri": "https://localhost:8080/",
     "height": 103
    },
    "colab_type": "code",
    "executionInfo": {
     "elapsed": 1292,
     "status": "ok",
     "timestamp": 1592484982463,
     "user": {
      "displayName": "Vee Lee Koh",
      "photoUrl": "https://lh3.googleusercontent.com/a-/AOh14Gjj2fkNUadlioLjx3UkcyKd5Ff-x9Vb-9bwf55Q6g=s64",
      "userId": "02870426395196104300"
     },
     "user_tz": -480
    },
    "id": "cK0Vat8CWrBp",
    "outputId": "795976c3-4e2c-4fcd-e0af-8020f79485ee"
   },
   "outputs": [
    {
     "data": {
      "text/plain": [
       "orderid        int64\n",
       "shopid         int64\n",
       "userid         int64\n",
       "event_time    object\n",
       "dtype: object"
      ]
     },
     "execution_count": 5,
     "metadata": {
      "tags": []
     },
     "output_type": "execute_result"
    }
   ],
   "source": [
    "initial_data.dtypes"
   ]
  },
  {
   "cell_type": "code",
   "execution_count": 0,
   "metadata": {
    "colab": {},
    "colab_type": "code",
    "id": "RUkKmmZSZHq4"
   },
   "outputs": [],
   "source": [
    "initial_data['event_time'] = pd.to_datetime(initial_data['event_time'])"
   ]
  },
  {
   "cell_type": "code",
   "execution_count": 0,
   "metadata": {
    "colab": {
     "base_uri": "https://localhost:8080/",
     "height": 103
    },
    "colab_type": "code",
    "executionInfo": {
     "elapsed": 1780,
     "status": "ok",
     "timestamp": 1592484983693,
     "user": {
      "displayName": "Vee Lee Koh",
      "photoUrl": "https://lh3.googleusercontent.com/a-/AOh14Gjj2fkNUadlioLjx3UkcyKd5Ff-x9Vb-9bwf55Q6g=s64",
      "userId": "02870426395196104300"
     },
     "user_tz": -480
    },
    "id": "XwarqiJeZSdg",
    "outputId": "37a9ab00-94a5-43cc-dd0d-5a054042a807"
   },
   "outputs": [
    {
     "data": {
      "text/plain": [
       "orderid                int64\n",
       "shopid                 int64\n",
       "userid                 int64\n",
       "event_time    datetime64[ns]\n",
       "dtype: object"
      ]
     },
     "execution_count": 7,
     "metadata": {
      "tags": []
     },
     "output_type": "execute_result"
    }
   ],
   "source": [
    "initial_data.dtypes"
   ]
  },
  {
   "cell_type": "code",
   "execution_count": 0,
   "metadata": {
    "colab": {},
    "colab_type": "code",
    "id": "uxCGBQVjYA6Z"
   },
   "outputs": [],
   "source": [
    "initial_data.sort_values(by=['shopid', 'event_time'], inplace=True)"
   ]
  },
  {
   "cell_type": "code",
   "execution_count": 0,
   "metadata": {
    "colab": {
     "base_uri": "https://localhost:8080/",
     "height": 413
    },
    "colab_type": "code",
    "executionInfo": {
     "elapsed": 1232,
     "status": "ok",
     "timestamp": 1592484984309,
     "user": {
      "displayName": "Vee Lee Koh",
      "photoUrl": "https://lh3.googleusercontent.com/a-/AOh14Gjj2fkNUadlioLjx3UkcyKd5Ff-x9Vb-9bwf55Q6g=s64",
      "userId": "02870426395196104300"
     },
     "user_tz": -480
    },
    "id": "RSgXT9QHbSQG",
    "outputId": "c67f4ace-7537-46db-b120-226f795b3549"
   },
   "outputs": [
    {
     "data": {
      "text/html": [
       "<div>\n",
       "<style scoped>\n",
       "    .dataframe tbody tr th:only-of-type {\n",
       "        vertical-align: middle;\n",
       "    }\n",
       "\n",
       "    .dataframe tbody tr th {\n",
       "        vertical-align: top;\n",
       "    }\n",
       "\n",
       "    .dataframe thead th {\n",
       "        text-align: right;\n",
       "    }\n",
       "</style>\n",
       "<table border=\"1\" class=\"dataframe\">\n",
       "  <thead>\n",
       "    <tr style=\"text-align: right;\">\n",
       "      <th></th>\n",
       "      <th>orderid</th>\n",
       "      <th>shopid</th>\n",
       "      <th>userid</th>\n",
       "      <th>event_time</th>\n",
       "    </tr>\n",
       "  </thead>\n",
       "  <tbody>\n",
       "    <tr>\n",
       "      <th>59</th>\n",
       "      <td>31086409141107</td>\n",
       "      <td>10009</td>\n",
       "      <td>196962305</td>\n",
       "      <td>2019-12-27 03:06:50</td>\n",
       "    </tr>\n",
       "    <tr>\n",
       "      <th>76187</th>\n",
       "      <td>31144571933461</td>\n",
       "      <td>10051</td>\n",
       "      <td>2854032</td>\n",
       "      <td>2019-12-27 19:16:11</td>\n",
       "    </tr>\n",
       "    <tr>\n",
       "      <th>9055</th>\n",
       "      <td>31254979546679</td>\n",
       "      <td>10051</td>\n",
       "      <td>48600461</td>\n",
       "      <td>2019-12-29 01:56:19</td>\n",
       "    </tr>\n",
       "    <tr>\n",
       "      <th>188513</th>\n",
       "      <td>31195675919209</td>\n",
       "      <td>10061</td>\n",
       "      <td>168750452</td>\n",
       "      <td>2019-12-28 09:27:55</td>\n",
       "    </tr>\n",
       "    <tr>\n",
       "      <th>174620</th>\n",
       "      <td>31205132327893</td>\n",
       "      <td>10061</td>\n",
       "      <td>194819216</td>\n",
       "      <td>2019-12-28 12:05:32</td>\n",
       "    </tr>\n",
       "    <tr>\n",
       "      <th>...</th>\n",
       "      <td>...</td>\n",
       "      <td>...</td>\n",
       "      <td>...</td>\n",
       "      <td>...</td>\n",
       "    </tr>\n",
       "    <tr>\n",
       "      <th>81950</th>\n",
       "      <td>31493203163305</td>\n",
       "      <td>214949521</td>\n",
       "      <td>46269178</td>\n",
       "      <td>2019-12-31 20:06:43</td>\n",
       "    </tr>\n",
       "    <tr>\n",
       "      <th>108903</th>\n",
       "      <td>31328775676314</td>\n",
       "      <td>214964814</td>\n",
       "      <td>200983383</td>\n",
       "      <td>2019-12-29 22:26:16</td>\n",
       "    </tr>\n",
       "    <tr>\n",
       "      <th>203031</th>\n",
       "      <td>31453591917585</td>\n",
       "      <td>215175775</td>\n",
       "      <td>13688804</td>\n",
       "      <td>2019-12-31 09:06:31</td>\n",
       "    </tr>\n",
       "    <tr>\n",
       "      <th>42842</th>\n",
       "      <td>31472077221692</td>\n",
       "      <td>215175775</td>\n",
       "      <td>129266028</td>\n",
       "      <td>2019-12-31 14:14:37</td>\n",
       "    </tr>\n",
       "    <tr>\n",
       "      <th>160711</th>\n",
       "      <td>31487696848532</td>\n",
       "      <td>215435223</td>\n",
       "      <td>79515106</td>\n",
       "      <td>2019-12-31 18:34:56</td>\n",
       "    </tr>\n",
       "  </tbody>\n",
       "</table>\n",
       "<p>222750 rows × 4 columns</p>\n",
       "</div>"
      ],
      "text/plain": [
       "               orderid     shopid     userid          event_time\n",
       "59      31086409141107      10009  196962305 2019-12-27 03:06:50\n",
       "76187   31144571933461      10051    2854032 2019-12-27 19:16:11\n",
       "9055    31254979546679      10051   48600461 2019-12-29 01:56:19\n",
       "188513  31195675919209      10061  168750452 2019-12-28 09:27:55\n",
       "174620  31205132327893      10061  194819216 2019-12-28 12:05:32\n",
       "...                ...        ...        ...                 ...\n",
       "81950   31493203163305  214949521   46269178 2019-12-31 20:06:43\n",
       "108903  31328775676314  214964814  200983383 2019-12-29 22:26:16\n",
       "203031  31453591917585  215175775   13688804 2019-12-31 09:06:31\n",
       "42842   31472077221692  215175775  129266028 2019-12-31 14:14:37\n",
       "160711  31487696848532  215435223   79515106 2019-12-31 18:34:56\n",
       "\n",
       "[222750 rows x 4 columns]"
      ]
     },
     "execution_count": 9,
     "metadata": {
      "tags": []
     },
     "output_type": "execute_result"
    }
   ],
   "source": [
    "initial_data"
   ]
  },
  {
   "cell_type": "code",
   "execution_count": 0,
   "metadata": {
    "colab": {
     "base_uri": "https://localhost:8080/",
     "height": 34
    },
    "colab_type": "code",
    "executionInfo": {
     "elapsed": 1292,
     "status": "ok",
     "timestamp": 1592484985479,
     "user": {
      "displayName": "Vee Lee Koh",
      "photoUrl": "https://lh3.googleusercontent.com/a-/AOh14Gjj2fkNUadlioLjx3UkcyKd5Ff-x9Vb-9bwf55Q6g=s64",
      "userId": "02870426395196104300"
     },
     "user_tz": -480
    },
    "id": "VB6aCihZaR7V",
    "outputId": "e164f941-e390-4c70-dd49-a306f7ba61a4"
   },
   "outputs": [
    {
     "data": {
      "text/plain": [
       "18770"
      ]
     },
     "execution_count": 10,
     "metadata": {
      "tags": []
     },
     "output_type": "execute_result"
    }
   ],
   "source": [
    "initial_data['shopid'].nunique()"
   ]
  },
  {
   "cell_type": "code",
   "execution_count": 0,
   "metadata": {
    "colab": {
     "base_uri": "https://localhost:8080/",
     "height": 224
    },
    "colab_type": "code",
    "executionInfo": {
     "elapsed": 773,
     "status": "ok",
     "timestamp": 1592484986112,
     "user": {
      "displayName": "Vee Lee Koh",
      "photoUrl": "https://lh3.googleusercontent.com/a-/AOh14Gjj2fkNUadlioLjx3UkcyKd5Ff-x9Vb-9bwf55Q6g=s64",
      "userId": "02870426395196104300"
     },
     "user_tz": -480
    },
    "id": "W5ryCh1vV8-L",
    "outputId": "23d50f16-5921-482e-d03d-ebe277745ec3"
   },
   "outputs": [
    {
     "data": {
      "text/plain": [
       "147941492    11703\n",
       "61556313      6691\n",
       "54615708      2640\n",
       "91799978       707\n",
       "57189823       687\n",
       "             ...  \n",
       "163965294        1\n",
       "17072451         1\n",
       "194982850        1\n",
       "160392136        1\n",
       "189530112        1\n",
       "Name: shopid, Length: 18770, dtype: int64"
      ]
     },
     "execution_count": 11,
     "metadata": {
      "tags": []
     },
     "output_type": "execute_result"
    }
   ],
   "source": [
    "initial_data.shopid.value_counts()"
   ]
  },
  {
   "cell_type": "markdown",
   "metadata": {},
   "source": [
    "There are three shopids with a great deal of orders. Algorithm will take longer during these shopids."
   ]
  },
  {
   "cell_type": "code",
   "execution_count": 0,
   "metadata": {
    "colab": {
     "base_uri": "https://localhost:8080/",
     "height": 34
    },
    "colab_type": "code",
    "executionInfo": {
     "elapsed": 1009,
     "status": "ok",
     "timestamp": 1592488398878,
     "user": {
      "displayName": "Vee Lee Koh",
      "photoUrl": "https://lh3.googleusercontent.com/a-/AOh14Gjj2fkNUadlioLjx3UkcyKd5Ff-x9Vb-9bwf55Q6g=s64",
      "userId": "02870426395196104300"
     },
     "user_tz": -480
    },
    "id": "2B8p4fXRwflI",
    "outputId": "b5b2a353-9c52-48a5-c6ea-ab4fec850915"
   },
   "outputs": [
    {
     "data": {
      "text/plain": [
       "(222750, 4)"
      ]
     },
     "execution_count": 44,
     "metadata": {
      "tags": []
     },
     "output_type": "execute_result"
    }
   ],
   "source": [
    "df = initial_data.copy()\n",
    "df.shape"
   ]
  },
  {
   "cell_type": "code",
   "execution_count": 0,
   "metadata": {
    "colab": {},
    "colab_type": "code",
    "id": "fZ5dwVQNqeD1"
   },
   "outputs": [],
   "source": [
    "# Retrieve unique shopids sorted by number of transactions ascendingly\n",
    "unique_shopid = df.shopid.value_counts(ascending=True).reset_index()['index']\n",
    "# unique_shopid"
   ]
  },
  {
   "cell_type": "code",
   "execution_count": null,
   "metadata": {
    "colab": {
     "base_uri": "https://localhost:8080/",
     "height": 34
    },
    "colab_type": "code",
    "executionInfo": {
     "elapsed": 1980,
     "status": "ok",
     "timestamp": 1592486924591,
     "user": {
      "displayName": "Vee Lee Koh",
      "photoUrl": "https://lh3.googleusercontent.com/a-/AOh14Gjj2fkNUadlioLjx3UkcyKd5Ff-x9Vb-9bwf55Q6g=s64",
      "userId": "02870426395196104300"
     },
     "user_tz": -480
    },
    "id": "WviL7YyemUm5",
    "outputId": "99bd2453-6075-4e80-b5f8-4d247f21dd00"
   },
   "outputs": [],
   "source": [
    "### Create solution array\n",
    "userid = [0] * df['shopid'].nunique()\n",
    "len(userid)"
   ]
  },
  {
   "cell_type": "code",
   "execution_count": null,
   "metadata": {
    "colab": {
     "base_uri": "https://localhost:8080/",
     "height": 51
    },
    "colab_type": "code",
    "executionInfo": {
     "elapsed": 1599,
     "status": "ok",
     "timestamp": 1592486925162,
     "user": {
      "displayName": "Vee Lee Koh",
      "photoUrl": "https://lh3.googleusercontent.com/a-/AOh14Gjj2fkNUadlioLjx3UkcyKd5Ff-x9Vb-9bwf55Q6g=s64",
      "userId": "02870426395196104300"
     },
     "user_tz": -480
    },
    "id": "DyhxwfQKmWY8",
    "outputId": "ecc53125-b31e-48b3-b326-a7e4e26a7a0d"
   },
   "outputs": [],
   "source": [
    "### Determine the shopid which has commited order brushing (fraud) \n",
    "### and retrieve the userids asscoiated with the fraudulent transactions\n",
    "\n",
    "idx = 0\n",
    "\n",
    "# For each unique shopid\n",
    "for shopid in unique_shopid:\n",
    "  \n",
    "  # Tracking purposes\n",
    "  print (idx, end=' ')\n",
    "\n",
    "  # Create dataframe for each unique shopid\n",
    "  shopid_df = df.loc[df.shopid == shopid] \n",
    "  # Get total sales per shop\n",
    "  sales = shopid_df.shape[0]\n",
    "  # Initiating variables and lists\n",
    "  highest_sales_prop_shopid = [] # Answer list for each shopid\n",
    "  orderbrushing_shopid = [] # List for userid assocated with order brushing\n",
    "  conc_rate = 0 \n",
    "  start = 0\n",
    "  counter = 0\n",
    "\n",
    "  ### Outer time loop\n",
    "  while start <= sales-2:\n",
    "\n",
    "    userid_list = []\n",
    "    # append the first userid\n",
    "    userid_list.append(shopid_df.iloc[start].userid)\n",
    "    end = start+1\n",
    "\n",
    "    # Tracking purposes for the two longest shopids\n",
    "    if shopid == 147941492 or shopid == 61556313:\n",
    "      if counter%1000 == 0:\n",
    "        print (counter, end=' ')\n",
    "      counter += 1\n",
    "\n",
    "    ### Inner time loop\n",
    "    while not end >= sales and (shopid_df.iloc[end].event_time - shopid_df.iloc[start].event_time)/np.timedelta64(1, 'h') <= 1:\n",
    "\n",
    "      userid_list.append(shopid_df.iloc[end].userid)\n",
    "      end += 1\n",
    "\n",
    "    # Calculate conc rate\n",
    "    unique_buyer = len(set(userid_list))\n",
    "    conc_rate = len(userid_list) / unique_buyer\n",
    "\n",
    "    ## Order brushing occured\n",
    "    if conc_rate >= 3:\n",
    "      # print(shopid, userid_list)\n",
    "      start = end # Skip the 1-hour interval\n",
    "      \n",
    "      # Append userids to list\n",
    "      for eachuserid in userid_list:\n",
    "        orderbrushing_shopid.append(eachuserid)\n",
    "\n",
    "    else:\n",
    "      \n",
    "      # Check if a 1-hour interval exists which satisfly conc rate > 3\n",
    "      fraud = False\n",
    "      popped = 0 \n",
    "      # Stop if less than 3 transactions within an hour\n",
    "      while len(userid_list) > 3:\n",
    "        userid_list.pop() # Remove the last userid\n",
    "        popped += 1\n",
    "        inter_conc_rate = len(userid_list)/len(set(userid_list)) # Calculate conc rate\n",
    "        \n",
    "        if inter_conc_rate >= 3:\n",
    "          if start !=0 :\n",
    "            # Check if transactions are within an hour\n",
    "            if (shopid_df.iloc[end-popped].event_time - shopid_df.iloc[start-1].event_time)/np.timedelta64(1, 'h') > 1:\n",
    "              fraud = True\n",
    "          # If start == 0, transactions are within an hour and order brushing occured\n",
    "          else:\n",
    "            fraud = True\n",
    "        \n",
    "        if fraud:\n",
    "          # print(shopid, userid_list)\n",
    "          for eachuserid in userid_list:\n",
    "            orderbrushing_shopid.append(eachuserid) # Append userids to list\n",
    "          start = end - popped # Skip transactions that are deemed order brushing\n",
    "          break\n",
    "      \n",
    "      if not fraud:\n",
    "        start += 1 # Proceed as usual\n",
    "\n",
    "  # Check if order brushing occured\n",
    "  if len(orderbrushing_shopid) > 0:\n",
    "\n",
    "    ## Find mode of element in list as only highest proportion userid will be recorded\n",
    "    highest_freq = orderbrushing_shopid.count(max(set(orderbrushing_shopid), key = orderbrushing_shopid.count))\n",
    "\n",
    "    # Get list of unique userids\n",
    "    unique_userid = list(set(orderbrushing_shopid))\n",
    "    unique_userid.sort()\n",
    "\n",
    "    # Calculate frequency of userids and only record the highest proportion one\n",
    "    for eachuserid in unique_userid:\n",
    "      freq = orderbrushing_shopid.count(eachuserid)\n",
    "      if freq == highest_freq:\n",
    "        highest_sales_prop_shopid.append(eachuserid)\n",
    "\n",
    "    # Record highest proportion userids in answer array\n",
    "    highest_sales_shopid_array = np.unique(np.array(highest_sales_prop_shopid))\n",
    "    userid[idx] = \"&\".join(\"{}\".format(i) for i in highest_sales_shopid_array)\n",
    "\n",
    "    # Print answer for viewing\n",
    "    print('\\n', shopid, userid[idx])\n",
    "\n",
    "  idx += 1 \n",
    "  \n"
   ]
  },
  {
   "cell_type": "code",
   "execution_count": 0,
   "metadata": {
    "colab": {},
    "colab_type": "code",
    "id": "Chziua1UyaQ6"
   },
   "outputs": [],
   "source": [
    "solution = dict(zip(unique_shopid,userid))"
   ]
  },
  {
   "cell_type": "code",
   "execution_count": 0,
   "metadata": {
    "colab": {},
    "colab_type": "code",
    "id": "bYhIz1ES-D4M"
   },
   "outputs": [],
   "source": [
    "solution_df = pd.DataFrame({'shopid':list(solution.keys()),'userid':list(solution.values())})"
   ]
  },
  {
   "cell_type": "code",
   "execution_count": 0,
   "metadata": {
    "colab": {},
    "colab_type": "code",
    "id": "0GrBISwq-_7G"
   },
   "outputs": [],
   "source": [
    "solution_df.to_csv('solution.csv', header = True, index = False) #saves the csv file"
   ]
  }
 ],
 "metadata": {
  "colab": {
   "collapsed_sections": [],
   "name": "Vee_OrderBrushing.ipynb",
   "provenance": []
  },
  "kernelspec": {
   "display_name": "Python 3",
   "language": "python",
   "name": "python3"
  },
  "language_info": {
   "codemirror_mode": {
    "name": "ipython",
    "version": 3
   },
   "file_extension": ".py",
   "mimetype": "text/x-python",
   "name": "python",
   "nbconvert_exporter": "python",
   "pygments_lexer": "ipython3",
   "version": "3.7.4"
  }
 },
 "nbformat": 4,
 "nbformat_minor": 1
}
