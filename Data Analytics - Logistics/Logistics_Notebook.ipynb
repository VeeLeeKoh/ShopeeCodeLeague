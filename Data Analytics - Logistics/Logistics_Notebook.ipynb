{
 "cells": [
  {
   "cell_type": "markdown",
   "metadata": {},
   "source": [
    "# Solution for Logistics Challenge under the Shopee Code League\n",
    "#### Vee Lee Koh, Chun Hong Khu, Chun Wye Ng & Li Hong Liew\n",
    "---\n",
    "This notebook is a sample solution for the Logistics Challenge under the Shopee Code League. The competition was hosted on Kaggle (Link <a href='https://www.kaggle.com/c/open-shopee-code-league-logistic/overview'>here</a>). \n"
   ]
  },
  {
   "cell_type": "code",
   "execution_count": 5,
   "metadata": {
    "colab": {
     "base_uri": "https://localhost:8080/",
     "height": 71
    },
    "colab_type": "code",
    "id": "Fduo7RCNOgY1",
    "outputId": "2f5df1f6-b047-4c69-d284-3f1c79e89902"
   },
   "outputs": [],
   "source": [
    "# Import Statements\n",
    "import pandas as pd\n",
    "import numpy as np\n",
    "import datetime as dt"
   ]
  },
  {
   "cell_type": "code",
   "execution_count": 6,
   "metadata": {
    "colab": {
     "base_uri": "https://localhost:8080/",
     "height": 413
    },
    "colab_type": "code",
    "id": "WtUT9Qz9OgZB",
    "outputId": "8baa561f-1c7b-49b8-ed21-7e12c6ef4d2d"
   },
   "outputs": [
    {
     "data": {
      "text/html": [
       "<div>\n",
       "<style scoped>\n",
       "    .dataframe tbody tr th:only-of-type {\n",
       "        vertical-align: middle;\n",
       "    }\n",
       "\n",
       "    .dataframe tbody tr th {\n",
       "        vertical-align: top;\n",
       "    }\n",
       "\n",
       "    .dataframe thead th {\n",
       "        text-align: right;\n",
       "    }\n",
       "</style>\n",
       "<table border=\"1\" class=\"dataframe\">\n",
       "  <thead>\n",
       "    <tr style=\"text-align: right;\">\n",
       "      <th></th>\n",
       "      <th>orderid</th>\n",
       "      <th>pick</th>\n",
       "      <th>1st_deliver_attempt</th>\n",
       "      <th>2nd_deliver_attempt</th>\n",
       "      <th>buyeraddress</th>\n",
       "      <th>selleraddress</th>\n",
       "    </tr>\n",
       "  </thead>\n",
       "  <tbody>\n",
       "    <tr>\n",
       "      <td>0</td>\n",
       "      <td>2215676524</td>\n",
       "      <td>1583138397</td>\n",
       "      <td>1.583385e+09</td>\n",
       "      <td>NaN</td>\n",
       "      <td>Baging ldl BUENAVISTA,PATAG.CAGAYAN Buagsong,c...</td>\n",
       "      <td>Pantranco vill. 417 Warehouse# katipunan 532 (...</td>\n",
       "    </tr>\n",
       "    <tr>\n",
       "      <td>1</td>\n",
       "      <td>2219624609</td>\n",
       "      <td>1583309968</td>\n",
       "      <td>1.583463e+09</td>\n",
       "      <td>1.583799e+09</td>\n",
       "      <td>coloma's quzom CASANAS Site1 Masiyan 533A Stol...</td>\n",
       "      <td>BLDG 210A Moras C42B 2B16,168 church) Complex ...</td>\n",
       "    </tr>\n",
       "    <tr>\n",
       "      <td>2</td>\n",
       "      <td>2220979489</td>\n",
       "      <td>1583306434</td>\n",
       "      <td>1.583460e+09</td>\n",
       "      <td>NaN</td>\n",
       "      <td>21-O LumangDaan,Capitangan,Abucay,Bataan .Bign...</td>\n",
       "      <td>#66 150-C, DRIVE, Milagros Joe socorro Metro M...</td>\n",
       "    </tr>\n",
       "    <tr>\n",
       "      <td>3</td>\n",
       "      <td>2221066352</td>\n",
       "      <td>1583419016</td>\n",
       "      <td>1.583556e+09</td>\n",
       "      <td>NaN</td>\n",
       "      <td>616Espiritu MARTINVILLE,MANUYO #5paraiso kengi...</td>\n",
       "      <td>999maII 201,26 Villaruel Barretto gen.t number...</td>\n",
       "    </tr>\n",
       "    <tr>\n",
       "      <td>4</td>\n",
       "      <td>2222478803</td>\n",
       "      <td>1583318305</td>\n",
       "      <td>1.583480e+09</td>\n",
       "      <td>NaN</td>\n",
       "      <td>L042 Summerbreezee1 L2(Balanay analyn Lot760 C...</td>\n",
       "      <td>G66MANILA Hiyas Fitness MAYSILO magdiwang Lt.4...</td>\n",
       "    </tr>\n",
       "    <tr>\n",
       "      <td>...</td>\n",
       "      <td>...</td>\n",
       "      <td>...</td>\n",
       "      <td>...</td>\n",
       "      <td>...</td>\n",
       "      <td>...</td>\n",
       "      <td>...</td>\n",
       "    </tr>\n",
       "    <tr>\n",
       "      <td>3176308</td>\n",
       "      <td>31504087640510</td>\n",
       "      <td>1585821728</td>\n",
       "      <td>1.585978e+09</td>\n",
       "      <td>NaN</td>\n",
       "      <td>mayapis. edeliza JC274 5542 brgy.Dita, Metro M...</td>\n",
       "      <td>Intimate St) compound. Sekiat 2B8 98-B Mel far...</td>\n",
       "    </tr>\n",
       "    <tr>\n",
       "      <td>3176309</td>\n",
       "      <td>31504147352227</td>\n",
       "      <td>1585895011</td>\n",
       "      <td>1.586179e+09</td>\n",
       "      <td>1.586232e+09</td>\n",
       "      <td>Superdome PORKY K307 Libertad, PCGCC sub.bagui...</td>\n",
       "      <td>13th 3616 Pilipinas, :1v26 1f-5 (Village) bl10...</td>\n",
       "    </tr>\n",
       "    <tr>\n",
       "      <td>3176310</td>\n",
       "      <td>31504462290482</td>\n",
       "      <td>1585826951</td>\n",
       "      <td>1.585965e+09</td>\n",
       "      <td>NaN</td>\n",
       "      <td>Galay's 1republic 333-18 Diliman 74d Malbay fe...</td>\n",
       "      <td>Lane, 379B 1739A Ivc AFPFC Cainta, Waterpark, ...</td>\n",
       "    </tr>\n",
       "    <tr>\n",
       "      <td>3176311</td>\n",
       "      <td>31504851495943</td>\n",
       "      <td>1585891194</td>\n",
       "      <td>1.586230e+09</td>\n",
       "      <td>NaN</td>\n",
       "      <td>#4560, 80south biloca vi!!age KM21, MANRESA, ,...</td>\n",
       "      <td>lrt-2 Consolacion 224-A Paradise 6D 36st champ...</td>\n",
       "    </tr>\n",
       "    <tr>\n",
       "      <td>3176312</td>\n",
       "      <td>31505199116340</td>\n",
       "      <td>1585823923</td>\n",
       "      <td>1.586153e+09</td>\n",
       "      <td>1.586231e+09</td>\n",
       "      <td>b4l13 TOLDA 792-A-5-A east...near CARRASCO Ang...</td>\n",
       "      <td>(Jeepney Kaligayan VANVAN Salud ASA Lauan A-55...</td>\n",
       "    </tr>\n",
       "  </tbody>\n",
       "</table>\n",
       "<p>3176313 rows × 6 columns</p>\n",
       "</div>"
      ],
      "text/plain": [
       "                orderid        pick  1st_deliver_attempt  2nd_deliver_attempt  \\\n",
       "0            2215676524  1583138397         1.583385e+09                  NaN   \n",
       "1            2219624609  1583309968         1.583463e+09         1.583799e+09   \n",
       "2            2220979489  1583306434         1.583460e+09                  NaN   \n",
       "3            2221066352  1583419016         1.583556e+09                  NaN   \n",
       "4            2222478803  1583318305         1.583480e+09                  NaN   \n",
       "...                 ...         ...                  ...                  ...   \n",
       "3176308  31504087640510  1585821728         1.585978e+09                  NaN   \n",
       "3176309  31504147352227  1585895011         1.586179e+09         1.586232e+09   \n",
       "3176310  31504462290482  1585826951         1.585965e+09                  NaN   \n",
       "3176311  31504851495943  1585891194         1.586230e+09                  NaN   \n",
       "3176312  31505199116340  1585823923         1.586153e+09         1.586231e+09   \n",
       "\n",
       "                                              buyeraddress  \\\n",
       "0        Baging ldl BUENAVISTA,PATAG.CAGAYAN Buagsong,c...   \n",
       "1        coloma's quzom CASANAS Site1 Masiyan 533A Stol...   \n",
       "2        21-O LumangDaan,Capitangan,Abucay,Bataan .Bign...   \n",
       "3        616Espiritu MARTINVILLE,MANUYO #5paraiso kengi...   \n",
       "4        L042 Summerbreezee1 L2(Balanay analyn Lot760 C...   \n",
       "...                                                    ...   \n",
       "3176308  mayapis. edeliza JC274 5542 brgy.Dita, Metro M...   \n",
       "3176309  Superdome PORKY K307 Libertad, PCGCC sub.bagui...   \n",
       "3176310  Galay's 1republic 333-18 Diliman 74d Malbay fe...   \n",
       "3176311  #4560, 80south biloca vi!!age KM21, MANRESA, ,...   \n",
       "3176312  b4l13 TOLDA 792-A-5-A east...near CARRASCO Ang...   \n",
       "\n",
       "                                             selleraddress  \n",
       "0        Pantranco vill. 417 Warehouse# katipunan 532 (...  \n",
       "1        BLDG 210A Moras C42B 2B16,168 church) Complex ...  \n",
       "2        #66 150-C, DRIVE, Milagros Joe socorro Metro M...  \n",
       "3        999maII 201,26 Villaruel Barretto gen.t number...  \n",
       "4        G66MANILA Hiyas Fitness MAYSILO magdiwang Lt.4...  \n",
       "...                                                    ...  \n",
       "3176308  Intimate St) compound. Sekiat 2B8 98-B Mel far...  \n",
       "3176309  13th 3616 Pilipinas, :1v26 1f-5 (Village) bl10...  \n",
       "3176310  Lane, 379B 1739A Ivc AFPFC Cainta, Waterpark, ...  \n",
       "3176311  lrt-2 Consolacion 224-A Paradise 6D 36st champ...  \n",
       "3176312  (Jeepney Kaligayan VANVAN Salud ASA Lauan A-55...  \n",
       "\n",
       "[3176313 rows x 6 columns]"
      ]
     },
     "execution_count": 6,
     "metadata": {},
     "output_type": "execute_result"
    }
   ],
   "source": [
    "df = pd.read_csv('delivery_orders_march.csv') \n",
    "df"
   ]
  },
  {
   "cell_type": "code",
   "execution_count": 8,
   "metadata": {
    "colab": {
     "base_uri": "https://localhost:8080/",
     "height": 323
    },
    "colab_type": "code",
    "id": "RfEcYyPYOgZJ",
    "outputId": "9c975105-9b95-4bb9-cac2-6a00483aa4ce"
   },
   "outputs": [
    {
     "data": {
      "text/html": [
       "<div>\n",
       "<style scoped>\n",
       "    .dataframe tbody tr th:only-of-type {\n",
       "        vertical-align: middle;\n",
       "    }\n",
       "\n",
       "    .dataframe tbody tr th {\n",
       "        vertical-align: top;\n",
       "    }\n",
       "\n",
       "    .dataframe thead th {\n",
       "        text-align: right;\n",
       "    }\n",
       "</style>\n",
       "<table border=\"1\" class=\"dataframe\">\n",
       "  <thead>\n",
       "    <tr style=\"text-align: right;\">\n",
       "      <th></th>\n",
       "      <th>1st Attempt SLA\\n(Working Days)</th>\n",
       "      <th>Unnamed: 1</th>\n",
       "      <th>Destination (Buyer)</th>\n",
       "      <th>Unnamed: 3</th>\n",
       "      <th>Unnamed: 4</th>\n",
       "      <th>Unnamed: 5</th>\n",
       "    </tr>\n",
       "  </thead>\n",
       "  <tbody>\n",
       "    <tr>\n",
       "      <td>0</td>\n",
       "      <td>NaN</td>\n",
       "      <td>NaN</td>\n",
       "      <td>Metro Manila</td>\n",
       "      <td>Luzon</td>\n",
       "      <td>Visayas</td>\n",
       "      <td>Mindanao</td>\n",
       "    </tr>\n",
       "    <tr>\n",
       "      <td>1</td>\n",
       "      <td>Origin\\n(Seller)</td>\n",
       "      <td>Metro Manila</td>\n",
       "      <td>3 working days</td>\n",
       "      <td>5 working days</td>\n",
       "      <td>7 working days</td>\n",
       "      <td>7 working days</td>\n",
       "    </tr>\n",
       "    <tr>\n",
       "      <td>2</td>\n",
       "      <td>NaN</td>\n",
       "      <td>Luzon</td>\n",
       "      <td>5 working days</td>\n",
       "      <td>5 working days</td>\n",
       "      <td>7 working days</td>\n",
       "      <td>7 working days</td>\n",
       "    </tr>\n",
       "    <tr>\n",
       "      <td>3</td>\n",
       "      <td>NaN</td>\n",
       "      <td>Visayas</td>\n",
       "      <td>7 working days</td>\n",
       "      <td>7 working days</td>\n",
       "      <td>7 working days</td>\n",
       "      <td>7 working days</td>\n",
       "    </tr>\n",
       "    <tr>\n",
       "      <td>4</td>\n",
       "      <td>NaN</td>\n",
       "      <td>Mindanao</td>\n",
       "      <td>7 working days</td>\n",
       "      <td>7 working days</td>\n",
       "      <td>7 working days</td>\n",
       "      <td>7 working days</td>\n",
       "    </tr>\n",
       "    <tr>\n",
       "      <td>5</td>\n",
       "      <td>NaN</td>\n",
       "      <td>NaN</td>\n",
       "      <td>NaN</td>\n",
       "      <td>NaN</td>\n",
       "      <td>NaN</td>\n",
       "      <td>NaN</td>\n",
       "    </tr>\n",
       "    <tr>\n",
       "      <td>6</td>\n",
       "      <td>Working Days are defined as Mon - Sat, Excludi...</td>\n",
       "      <td>NaN</td>\n",
       "      <td>NaN</td>\n",
       "      <td>NaN</td>\n",
       "      <td>NaN</td>\n",
       "      <td>NaN</td>\n",
       "    </tr>\n",
       "    <tr>\n",
       "      <td>7</td>\n",
       "      <td>SLA calculation begins from the next day after...</td>\n",
       "      <td>NaN</td>\n",
       "      <td>NaN</td>\n",
       "      <td>NaN</td>\n",
       "      <td>NaN</td>\n",
       "      <td>NaN</td>\n",
       "    </tr>\n",
       "    <tr>\n",
       "      <td>8</td>\n",
       "      <td>2nd Attempt must be no later than 3 working da...</td>\n",
       "      <td>NaN</td>\n",
       "      <td>NaN</td>\n",
       "      <td>NaN</td>\n",
       "      <td>NaN</td>\n",
       "      <td>NaN</td>\n",
       "    </tr>\n",
       "  </tbody>\n",
       "</table>\n",
       "</div>"
      ],
      "text/plain": [
       "                     1st Attempt SLA\\n(Working Days)    Unnamed: 1  \\\n",
       "0                                                NaN           NaN   \n",
       "1                                   Origin\\n(Seller)  Metro Manila   \n",
       "2                                                NaN         Luzon   \n",
       "3                                                NaN       Visayas   \n",
       "4                                                NaN      Mindanao   \n",
       "5                                                NaN           NaN   \n",
       "6  Working Days are defined as Mon - Sat, Excludi...           NaN   \n",
       "7  SLA calculation begins from the next day after...           NaN   \n",
       "8  2nd Attempt must be no later than 3 working da...           NaN   \n",
       "\n",
       "  Destination (Buyer)      Unnamed: 3      Unnamed: 4      Unnamed: 5  \n",
       "0        Metro Manila           Luzon         Visayas        Mindanao  \n",
       "1      3 working days  5 working days  7 working days  7 working days  \n",
       "2      5 working days  5 working days  7 working days  7 working days  \n",
       "3      7 working days  7 working days  7 working days  7 working days  \n",
       "4      7 working days  7 working days  7 working days  7 working days  \n",
       "5                 NaN             NaN             NaN             NaN  \n",
       "6                 NaN             NaN             NaN             NaN  \n",
       "7                 NaN             NaN             NaN             NaN  \n",
       "8                 NaN             NaN             NaN             NaN  "
      ]
     },
     "execution_count": 8,
     "metadata": {},
     "output_type": "execute_result"
    }
   ],
   "source": [
    "df2 = pd.read_excel('SLA_matrix.xlsx')\n",
    "df2"
   ]
  },
  {
   "cell_type": "code",
   "execution_count": 9,
   "metadata": {
    "colab": {
     "base_uri": "https://localhost:8080/",
     "height": 138
    },
    "colab_type": "code",
    "id": "l9uBZdDnOgZi",
    "outputId": "3f4f7869-25b9-4507-f787-58cb3503d5c9"
   },
   "outputs": [
    {
     "data": {
      "text/plain": [
       "orderid                  int64\n",
       "pick                     int64\n",
       "1st_deliver_attempt    float64\n",
       "2nd_deliver_attempt    float64\n",
       "buyeraddress            object\n",
       "selleraddress           object\n",
       "dtype: object"
      ]
     },
     "execution_count": 9,
     "metadata": {},
     "output_type": "execute_result"
    }
   ],
   "source": [
    "df.dtypes"
   ]
  },
  {
   "cell_type": "code",
   "execution_count": 10,
   "metadata": {
    "colab": {
     "base_uri": "https://localhost:8080/",
     "height": 34
    },
    "colab_type": "code",
    "id": "1BPSFYUgOgZS",
    "outputId": "986824d4-bcaf-48ed-9834-b9168616c942"
   },
   "outputs": [
    {
     "data": {
      "text/plain": [
       "3176313"
      ]
     },
     "execution_count": 10,
     "metadata": {},
     "output_type": "execute_result"
    }
   ],
   "source": [
    "df.orderid.nunique()"
   ]
  },
  {
   "cell_type": "markdown",
   "metadata": {
    "colab_type": "text",
    "id": "qssRyOcy1t_D"
   },
   "source": [
    "All orderids are unique"
   ]
  },
  {
   "cell_type": "code",
   "execution_count": 11,
   "metadata": {
    "colab": {
     "base_uri": "https://localhost:8080/",
     "height": 170
    },
    "colab_type": "code",
    "id": "hXvgNkBa164b",
    "outputId": "fd78eaf1-a046-4d30-b756-40a749faf37e"
   },
   "outputs": [
    {
     "data": {
      "text/html": [
       "<div>\n",
       "<style scoped>\n",
       "    .dataframe tbody tr th:only-of-type {\n",
       "        vertical-align: middle;\n",
       "    }\n",
       "\n",
       "    .dataframe tbody tr th {\n",
       "        vertical-align: top;\n",
       "    }\n",
       "\n",
       "    .dataframe thead th {\n",
       "        text-align: right;\n",
       "    }\n",
       "</style>\n",
       "<table border=\"1\" class=\"dataframe\">\n",
       "  <thead>\n",
       "    <tr style=\"text-align: right;\">\n",
       "      <th></th>\n",
       "      <th>count</th>\n",
       "      <th>mean</th>\n",
       "      <th>std</th>\n",
       "      <th>min</th>\n",
       "      <th>25%</th>\n",
       "      <th>50%</th>\n",
       "      <th>75%</th>\n",
       "      <th>max</th>\n",
       "    </tr>\n",
       "  </thead>\n",
       "  <tbody>\n",
       "    <tr>\n",
       "      <td>orderid</td>\n",
       "      <td>3176313.0</td>\n",
       "      <td>4.639170e+12</td>\n",
       "      <td>1.104981e+13</td>\n",
       "      <td>2.195010e+09</td>\n",
       "      <td>2.266298e+09</td>\n",
       "      <td>2.299981e+09</td>\n",
       "      <td>2.337305e+09</td>\n",
       "      <td>3.150713e+13</td>\n",
       "    </tr>\n",
       "    <tr>\n",
       "      <td>pick</td>\n",
       "      <td>3176313.0</td>\n",
       "      <td>1.584157e+09</td>\n",
       "      <td>6.704572e+05</td>\n",
       "      <td>1.583079e+09</td>\n",
       "      <td>1.583579e+09</td>\n",
       "      <td>1.584092e+09</td>\n",
       "      <td>1.584512e+09</td>\n",
       "      <td>1.586181e+09</td>\n",
       "    </tr>\n",
       "    <tr>\n",
       "      <td>1st_deliver_attempt</td>\n",
       "      <td>3176313.0</td>\n",
       "      <td>1.584533e+09</td>\n",
       "      <td>7.416932e+05</td>\n",
       "      <td>1.583132e+09</td>\n",
       "      <td>1.583982e+09</td>\n",
       "      <td>1.584424e+09</td>\n",
       "      <td>1.584939e+09</td>\n",
       "      <td>1.586268e+09</td>\n",
       "    </tr>\n",
       "    <tr>\n",
       "      <td>2nd_deliver_attempt</td>\n",
       "      <td>1357002.0</td>\n",
       "      <td>1.584725e+09</td>\n",
       "      <td>6.072972e+05</td>\n",
       "      <td>1.583251e+09</td>\n",
       "      <td>1.584518e+09</td>\n",
       "      <td>1.584527e+09</td>\n",
       "      <td>1.585008e+09</td>\n",
       "      <td>1.586287e+09</td>\n",
       "    </tr>\n",
       "  </tbody>\n",
       "</table>\n",
       "</div>"
      ],
      "text/plain": [
       "                         count          mean           std           min  \\\n",
       "orderid              3176313.0  4.639170e+12  1.104981e+13  2.195010e+09   \n",
       "pick                 3176313.0  1.584157e+09  6.704572e+05  1.583079e+09   \n",
       "1st_deliver_attempt  3176313.0  1.584533e+09  7.416932e+05  1.583132e+09   \n",
       "2nd_deliver_attempt  1357002.0  1.584725e+09  6.072972e+05  1.583251e+09   \n",
       "\n",
       "                              25%           50%           75%           max  \n",
       "orderid              2.266298e+09  2.299981e+09  2.337305e+09  3.150713e+13  \n",
       "pick                 1.583579e+09  1.584092e+09  1.584512e+09  1.586181e+09  \n",
       "1st_deliver_attempt  1.583982e+09  1.584424e+09  1.584939e+09  1.586268e+09  \n",
       "2nd_deliver_attempt  1.584518e+09  1.584527e+09  1.585008e+09  1.586287e+09  "
      ]
     },
     "execution_count": 11,
     "metadata": {},
     "output_type": "execute_result"
    }
   ],
   "source": [
    "df.describe().transpose()"
   ]
  },
  {
   "cell_type": "markdown",
   "metadata": {
    "colab_type": "text",
    "id": "nbltdo3cOgZp"
   },
   "source": [
    "Not all orderids have a 2nd delivery attempt"
   ]
  },
  {
   "cell_type": "markdown",
   "metadata": {
    "colab_type": "text",
    "id": "z_uQqZRhOgZw"
   },
   "source": [
    "## Service Level Agreements (SLA) Retrieval"
   ]
  },
  {
   "cell_type": "code",
   "execution_count": 12,
   "metadata": {
    "colab": {},
    "colab_type": "code",
    "id": "1NMSKNuVOgZx"
   },
   "outputs": [],
   "source": [
    "# Retrieve seller and buyer locations \n",
    "df['buyer_location'] = df.buyeraddress.apply(lambda x : x.split()[-1].lower())\n",
    "df['seller_location'] = df.selleraddress.apply(lambda x : x.split()[-1].lower())"
   ]
  },
  {
   "cell_type": "code",
   "execution_count": 13,
   "metadata": {
    "colab": {
     "base_uri": "https://localhost:8080/",
     "height": 69
    },
    "colab_type": "code",
    "id": "sszUL9KfOgaD",
    "outputId": "36075d3c-0388-4f6b-ec51-2690d820f756"
   },
   "outputs": [
    {
     "data": {
      "text/plain": [
       "manila    3176312\n",
       "luzon           1\n",
       "Name: seller_location, dtype: int64"
      ]
     },
     "execution_count": 13,
     "metadata": {},
     "output_type": "execute_result"
    }
   ],
   "source": [
    "df.seller_location.value_counts()"
   ]
  },
  {
   "cell_type": "markdown",
   "metadata": {
    "colab_type": "text",
    "id": "YFVR3GEDQ4_h"
   },
   "source": [
    "Only 1 seller location is Luzon > Manually assign SLA to simplify process "
   ]
  },
  {
   "cell_type": "code",
   "execution_count": 14,
   "metadata": {
    "colab": {
     "base_uri": "https://localhost:8080/",
     "height": 103
    },
    "colab_type": "code",
    "id": "yhHjmJz0OgaN",
    "outputId": "d759ed8a-1f33-4611-cee3-ba745699796e"
   },
   "outputs": [
    {
     "data": {
      "text/plain": [
       "manila      1560698\n",
       "luzon        804888\n",
       "visayas      479595\n",
       "mindanao     331132\n",
       "Name: buyer_location, dtype: int64"
      ]
     },
     "execution_count": 14,
     "metadata": {},
     "output_type": "execute_result"
    }
   ],
   "source": [
    "df.buyer_location.value_counts()"
   ]
  },
  {
   "cell_type": "code",
   "execution_count": 15,
   "metadata": {
    "colab": {
     "base_uri": "https://localhost:8080/",
     "height": 96
    },
    "colab_type": "code",
    "id": "XYToHipSQOES",
    "outputId": "6c5b8983-dcfc-453e-e0b7-3249a5f6c62e"
   },
   "outputs": [
    {
     "data": {
      "text/html": [
       "<div>\n",
       "<style scoped>\n",
       "    .dataframe tbody tr th:only-of-type {\n",
       "        vertical-align: middle;\n",
       "    }\n",
       "\n",
       "    .dataframe tbody tr th {\n",
       "        vertical-align: top;\n",
       "    }\n",
       "\n",
       "    .dataframe thead th {\n",
       "        text-align: right;\n",
       "    }\n",
       "</style>\n",
       "<table border=\"1\" class=\"dataframe\">\n",
       "  <thead>\n",
       "    <tr style=\"text-align: right;\">\n",
       "      <th></th>\n",
       "      <th>orderid</th>\n",
       "      <th>pick</th>\n",
       "      <th>1st_deliver_attempt</th>\n",
       "      <th>2nd_deliver_attempt</th>\n",
       "      <th>buyeraddress</th>\n",
       "      <th>selleraddress</th>\n",
       "      <th>buyer_location</th>\n",
       "      <th>seller_location</th>\n",
       "    </tr>\n",
       "  </thead>\n",
       "  <tbody>\n",
       "    <tr>\n",
       "      <td>2300637</td>\n",
       "      <td>30722935142905</td>\n",
       "      <td>1584931603</td>\n",
       "      <td>1.585366e+09</td>\n",
       "      <td>NaN</td>\n",
       "      <td>jabson PIPAC 676B kingsbird humay-humay, Veto ...</td>\n",
       "      <td>Sangandaan Cor.P. 9F, Fairview. Sogo 1P16 Lloy...</td>\n",
       "      <td>luzon</td>\n",
       "      <td>luzon</td>\n",
       "    </tr>\n",
       "  </tbody>\n",
       "</table>\n",
       "</div>"
      ],
      "text/plain": [
       "                orderid        pick  1st_deliver_attempt  2nd_deliver_attempt  \\\n",
       "2300637  30722935142905  1584931603         1.585366e+09                  NaN   \n",
       "\n",
       "                                              buyeraddress  \\\n",
       "2300637  jabson PIPAC 676B kingsbird humay-humay, Veto ...   \n",
       "\n",
       "                                             selleraddress buyer_location  \\\n",
       "2300637  Sangandaan Cor.P. 9F, Fairview. Sogo 1P16 Lloy...          luzon   \n",
       "\n",
       "        seller_location  \n",
       "2300637           luzon  "
      ]
     },
     "execution_count": 15,
     "metadata": {},
     "output_type": "execute_result"
    }
   ],
   "source": [
    "df[df.seller_location == 'luzon']"
   ]
  },
  {
   "cell_type": "markdown",
   "metadata": {
    "colab_type": "text",
    "id": "Uf83TBjrRibg"
   },
   "source": [
    "Luzon to Luzon > SLA is 5 working days "
   ]
  },
  {
   "cell_type": "code",
   "execution_count": 16,
   "metadata": {
    "colab": {},
    "colab_type": "code",
    "id": "0UP3DQZUOgaV"
   },
   "outputs": [],
   "source": [
    "df.loc[df.seller_location=='luzon', 'sla']=5"
   ]
  },
  {
   "cell_type": "markdown",
   "metadata": {
    "colab_type": "text",
    "id": "t375uxLk2mj2"
   },
   "source": [
    "Assign the rest of the SLA based on buyer location"
   ]
  },
  {
   "cell_type": "code",
   "execution_count": 17,
   "metadata": {
    "colab": {},
    "colab_type": "code",
    "id": "ArqUB1eBOgac"
   },
   "outputs": [],
   "source": [
    "df.loc[(df.seller_location=='manila') & ((df.buyer_location=='mindanao') | (df.buyer_location=='visayas')), 'sla'] = 7"
   ]
  },
  {
   "cell_type": "code",
   "execution_count": 18,
   "metadata": {
    "colab": {},
    "colab_type": "code",
    "id": "Ahyifi-dOgam"
   },
   "outputs": [],
   "source": [
    "df.loc[(df.seller_location=='manila') & (df.buyer_location=='luzon'), 'sla'] = 5"
   ]
  },
  {
   "cell_type": "code",
   "execution_count": 19,
   "metadata": {
    "colab": {},
    "colab_type": "code",
    "id": "1-rajtcNOgar"
   },
   "outputs": [],
   "source": [
    "df.loc[(df.seller_location=='manila') & (df.buyer_location=='manila'), 'sla'] = 3"
   ]
  },
  {
   "cell_type": "code",
   "execution_count": 20,
   "metadata": {
    "colab": {
     "base_uri": "https://localhost:8080/",
     "height": 86
    },
    "colab_type": "code",
    "id": "PSG_KR17Qk_k",
    "outputId": "143d6356-8e6c-47ca-d121-e3051ce93622"
   },
   "outputs": [
    {
     "data": {
      "text/plain": [
       "3.0    1560698\n",
       "7.0     810727\n",
       "5.0     804888\n",
       "Name: sla, dtype: int64"
      ]
     },
     "execution_count": 20,
     "metadata": {},
     "output_type": "execute_result"
    }
   ],
   "source": [
    "# Manually check if sla correctly assigned based on value count of buyer locations above\n",
    "df.sla.value_counts()"
   ]
  },
  {
   "cell_type": "code",
   "execution_count": 21,
   "metadata": {
    "colab": {},
    "colab_type": "code",
    "id": "qGmLk-NrRsje"
   },
   "outputs": [],
   "source": [
    "df.drop(columns = ['buyeraddress','selleraddress'], inplace=True)"
   ]
  },
  {
   "cell_type": "code",
   "execution_count": 22,
   "metadata": {
    "colab": {
     "base_uri": "https://localhost:8080/",
     "height": 201
    },
    "colab_type": "code",
    "id": "vgFowAlER2Jk",
    "outputId": "f6ef2d5c-ba47-454a-b170-d447ec172a3a"
   },
   "outputs": [
    {
     "data": {
      "text/html": [
       "<div>\n",
       "<style scoped>\n",
       "    .dataframe tbody tr th:only-of-type {\n",
       "        vertical-align: middle;\n",
       "    }\n",
       "\n",
       "    .dataframe tbody tr th {\n",
       "        vertical-align: top;\n",
       "    }\n",
       "\n",
       "    .dataframe thead th {\n",
       "        text-align: right;\n",
       "    }\n",
       "</style>\n",
       "<table border=\"1\" class=\"dataframe\">\n",
       "  <thead>\n",
       "    <tr style=\"text-align: right;\">\n",
       "      <th></th>\n",
       "      <th>orderid</th>\n",
       "      <th>pick</th>\n",
       "      <th>1st_deliver_attempt</th>\n",
       "      <th>2nd_deliver_attempt</th>\n",
       "      <th>buyer_location</th>\n",
       "      <th>seller_location</th>\n",
       "      <th>sla</th>\n",
       "    </tr>\n",
       "  </thead>\n",
       "  <tbody>\n",
       "    <tr>\n",
       "      <td>0</td>\n",
       "      <td>2215676524</td>\n",
       "      <td>1583138397</td>\n",
       "      <td>1.583385e+09</td>\n",
       "      <td>NaN</td>\n",
       "      <td>manila</td>\n",
       "      <td>manila</td>\n",
       "      <td>3.0</td>\n",
       "    </tr>\n",
       "    <tr>\n",
       "      <td>1</td>\n",
       "      <td>2219624609</td>\n",
       "      <td>1583309968</td>\n",
       "      <td>1.583463e+09</td>\n",
       "      <td>1.583799e+09</td>\n",
       "      <td>manila</td>\n",
       "      <td>manila</td>\n",
       "      <td>3.0</td>\n",
       "    </tr>\n",
       "    <tr>\n",
       "      <td>2</td>\n",
       "      <td>2220979489</td>\n",
       "      <td>1583306434</td>\n",
       "      <td>1.583460e+09</td>\n",
       "      <td>NaN</td>\n",
       "      <td>manila</td>\n",
       "      <td>manila</td>\n",
       "      <td>3.0</td>\n",
       "    </tr>\n",
       "    <tr>\n",
       "      <td>3</td>\n",
       "      <td>2221066352</td>\n",
       "      <td>1583419016</td>\n",
       "      <td>1.583556e+09</td>\n",
       "      <td>NaN</td>\n",
       "      <td>manila</td>\n",
       "      <td>manila</td>\n",
       "      <td>3.0</td>\n",
       "    </tr>\n",
       "    <tr>\n",
       "      <td>4</td>\n",
       "      <td>2222478803</td>\n",
       "      <td>1583318305</td>\n",
       "      <td>1.583480e+09</td>\n",
       "      <td>NaN</td>\n",
       "      <td>luzon</td>\n",
       "      <td>manila</td>\n",
       "      <td>5.0</td>\n",
       "    </tr>\n",
       "  </tbody>\n",
       "</table>\n",
       "</div>"
      ],
      "text/plain": [
       "      orderid        pick  1st_deliver_attempt  2nd_deliver_attempt  \\\n",
       "0  2215676524  1583138397         1.583385e+09                  NaN   \n",
       "1  2219624609  1583309968         1.583463e+09         1.583799e+09   \n",
       "2  2220979489  1583306434         1.583460e+09                  NaN   \n",
       "3  2221066352  1583419016         1.583556e+09                  NaN   \n",
       "4  2222478803  1583318305         1.583480e+09                  NaN   \n",
       "\n",
       "  buyer_location seller_location  sla  \n",
       "0         manila          manila  3.0  \n",
       "1         manila          manila  3.0  \n",
       "2         manila          manila  3.0  \n",
       "3         manila          manila  3.0  \n",
       "4          luzon          manila  5.0  "
      ]
     },
     "execution_count": 22,
     "metadata": {},
     "output_type": "execute_result"
    }
   ],
   "source": [
    "df.head()"
   ]
  },
  {
   "cell_type": "markdown",
   "metadata": {
    "colab_type": "text",
    "id": "kuxjnZUuOgaw"
   },
   "source": [
    "## Datetime Formatting"
   ]
  },
  {
   "cell_type": "code",
   "execution_count": 23,
   "metadata": {
    "colab": {},
    "colab_type": "code",
    "id": "6fyppZ9KOgax"
   },
   "outputs": [],
   "source": [
    "# Convert epoch time in seconds to datetime \n",
    "df['pickup'] = pd.to_datetime(df.pick, unit='s') \n",
    "df['first_deli'] = pd.to_datetime(df['1st_deliver_attempt'], unit='s') \n",
    "df['second_deli'] = pd.to_datetime(df['2nd_deliver_attempt'], unit='s') "
   ]
  },
  {
   "cell_type": "code",
   "execution_count": 24,
   "metadata": {
    "colab": {
     "base_uri": "https://localhost:8080/",
     "height": 789
    },
    "colab_type": "code",
    "id": "0ZosqCNuOga4",
    "outputId": "b9416bfc-2e6f-4686-957f-f868a8d087ff"
   },
   "outputs": [
    {
     "data": {
      "image/png": "[encoded data removed]",
      "text/plain": [
       "<Figure size 432x288 with 1 Axes>"
      ]
     },
     "metadata": {
      "needs_background": "light"
     },
     "output_type": "display_data"
    },
    {
     "data": {
      "image/png": "[encoded data removed]",
      "text/plain": [
       "<Figure size 432x288 with 1 Axes>"
      ]
     },
     "metadata": {
      "needs_background": "light"
     },
     "output_type": "display_data"
    },
    {
     "data": {
      "text/plain": [
       "<matplotlib.axes._subplots.AxesSubplot at 0x28b20d9be88>"
      ]
     },
     "execution_count": 24,
     "metadata": {},
     "output_type": "execute_result"
    },
    {
     "data": {
      "image/png": "[encoded data removed]",
      "text/plain": [
       "<Figure size 432x288 with 1 Axes>"
      ]
     },
     "metadata": {
      "needs_background": "light"
     },
     "output_type": "display_data"
    }
   ],
   "source": [
    "# View distribution of pickup and delivery times\n",
    "df['pickup'].dt.hour.hist()\n",
    "plt.show()\n",
    "df['first_deli'].dt.hour.hist()\n",
    "plt.show()\n",
    "df['second_deli'].dt.hour.hist()\n",
    "# plt.xticks(rotation=30)"
   ]
  },
  {
   "cell_type": "markdown",
   "metadata": {
    "colab_type": "text",
    "id": "gbaUca03Xgmw"
   },
   "source": [
    "Looks like a lot of the delivery times are during midnight. Question statement says \"*All time formats are stored in epoch time based on Local Time (GMT+8)*\". **This could mean we have to manually add 8 hours to the local time**."
   ]
  },
  {
   "cell_type": "code",
   "execution_count": 25,
   "metadata": {
    "colab": {},
    "colab_type": "code",
    "id": "yY1w0aIMUp2O"
   },
   "outputs": [],
   "source": [
    "for col in ['pickup','first_deli','second_deli']:\n",
    "  df[col] = df[col] + pd.to_timedelta(8, unit='h') "
   ]
  },
  {
   "cell_type": "code",
   "execution_count": 26,
   "metadata": {
    "colab": {
     "base_uri": "https://localhost:8080/",
     "height": 789
    },
    "colab_type": "code",
    "id": "-ralZrQEYj6C",
    "outputId": "14c5c236-fa0c-4cc3-a121-a5bb5a70b166"
   },
   "outputs": [
    {
     "data": {
      "image/png": "[encoded data removed]",
      "text/plain": [
       "<Figure size 432x288 with 1 Axes>"
      ]
     },
     "metadata": {
      "needs_background": "light"
     },
     "output_type": "display_data"
    },
    {
     "data": {
      "image/png": "[encoded data removed]",
      "text/plain": [
       "<Figure size 432x288 with 1 Axes>"
      ]
     },
     "metadata": {
      "needs_background": "light"
     },
     "output_type": "display_data"
    },
    {
     "data": {
      "text/plain": [
       "<matplotlib.axes._subplots.AxesSubplot at 0x28b209d4248>"
      ]
     },
     "execution_count": 26,
     "metadata": {},
     "output_type": "execute_result"
    },
    {
     "data": {
      "image/png": "[encoded data removed]",
      "text/plain": [
       "<Figure size 432x288 with 1 Axes>"
      ]
     },
     "metadata": {
      "needs_background": "light"
     },
     "output_type": "display_data"
    }
   ],
   "source": [
    "# View distribution of pickup and delivery times\n",
    "df['pickup'].dt.hour.hist()\n",
    "plt.show()\n",
    "df['first_deli'].dt.hour.hist()\n",
    "plt.show()\n",
    "df['second_deli'].dt.hour.hist()\n",
    "# plt.xticks(rotation=30)"
   ]
  },
  {
   "cell_type": "markdown",
   "metadata": {
    "colab_type": "text",
    "id": "u5Zfar1WZF4r"
   },
   "source": [
    "The distribution makes more sense now"
   ]
  },
  {
   "cell_type": "code",
   "execution_count": 28,
   "metadata": {
    "colab": {
     "base_uri": "https://localhost:8080/",
     "height": 206
    },
    "colab_type": "code",
    "id": "BA8Zn3l5OgbH",
    "outputId": "19aa0ec9-bffe-4fb3-bdaa-a405d7debd66"
   },
   "outputs": [
    {
     "data": {
      "text/plain": [
       "orderid                         int64\n",
       "pick                            int64\n",
       "1st_deliver_attempt           float64\n",
       "2nd_deliver_attempt           float64\n",
       "buyer_location                 object\n",
       "seller_location                object\n",
       "sla                           float64\n",
       "pickup                 datetime64[ns]\n",
       "first_deli             datetime64[ns]\n",
       "second_deli            datetime64[ns]\n",
       "dtype: object"
      ]
     },
     "execution_count": 28,
     "metadata": {},
     "output_type": "execute_result"
    }
   ],
   "source": [
    "df.dtypes"
   ]
  },
  {
   "cell_type": "code",
   "execution_count": 29,
   "metadata": {
    "colab": {
     "base_uri": "https://localhost:8080/",
     "height": 231
    },
    "colab_type": "code",
    "id": "lFiQ0VXcOgbR",
    "outputId": "8b3eefd3-69ab-40f7-8615-1efb7f987628"
   },
   "outputs": [
    {
     "data": {
      "text/html": [
       "<div>\n",
       "<style scoped>\n",
       "    .dataframe tbody tr th:only-of-type {\n",
       "        vertical-align: middle;\n",
       "    }\n",
       "\n",
       "    .dataframe tbody tr th {\n",
       "        vertical-align: top;\n",
       "    }\n",
       "\n",
       "    .dataframe thead th {\n",
       "        text-align: right;\n",
       "    }\n",
       "</style>\n",
       "<table border=\"1\" class=\"dataframe\">\n",
       "  <thead>\n",
       "    <tr style=\"text-align: right;\">\n",
       "      <th></th>\n",
       "      <th>pickup</th>\n",
       "      <th>first_deli</th>\n",
       "      <th>second_deli</th>\n",
       "    </tr>\n",
       "  </thead>\n",
       "  <tbody>\n",
       "    <tr>\n",
       "      <td>count</td>\n",
       "      <td>3176313</td>\n",
       "      <td>3176313</td>\n",
       "      <td>1357002</td>\n",
       "    </tr>\n",
       "    <tr>\n",
       "      <td>unique</td>\n",
       "      <td>236418</td>\n",
       "      <td>876961</td>\n",
       "      <td>529216</td>\n",
       "    </tr>\n",
       "    <tr>\n",
       "      <td>top</td>\n",
       "      <td>2020-03-04 20:28:23</td>\n",
       "      <td>2020-04-07 18:22:30</td>\n",
       "      <td>2020-03-20 03:05:03</td>\n",
       "    </tr>\n",
       "    <tr>\n",
       "      <td>freq</td>\n",
       "      <td>528</td>\n",
       "      <td>77</td>\n",
       "      <td>143</td>\n",
       "    </tr>\n",
       "    <tr>\n",
       "      <td>first</td>\n",
       "      <td>2020-03-02 00:12:23</td>\n",
       "      <td>2020-03-02 14:45:45</td>\n",
       "      <td>2020-03-04 00:01:45</td>\n",
       "    </tr>\n",
       "    <tr>\n",
       "      <td>last</td>\n",
       "      <td>2020-04-06 21:57:09</td>\n",
       "      <td>2020-04-07 21:52:18</td>\n",
       "      <td>2020-04-08 03:11:09</td>\n",
       "    </tr>\n",
       "  </tbody>\n",
       "</table>\n",
       "</div>"
      ],
      "text/plain": [
       "                     pickup           first_deli          second_deli\n",
       "count               3176313              3176313              1357002\n",
       "unique               236418               876961               529216\n",
       "top     2020-03-04 20:28:23  2020-04-07 18:22:30  2020-03-20 03:05:03\n",
       "freq                    528                   77                  143\n",
       "first   2020-03-02 00:12:23  2020-03-02 14:45:45  2020-03-04 00:01:45\n",
       "last    2020-04-06 21:57:09  2020-04-07 21:52:18  2020-04-08 03:11:09"
      ]
     },
     "execution_count": 29,
     "metadata": {},
     "output_type": "execute_result"
    }
   ],
   "source": [
    "df[['pickup','first_deli','second_deli']].describe()"
   ]
  },
  {
   "cell_type": "markdown",
   "metadata": {
    "colab_type": "text",
    "id": "vQIy1AmXa-T_"
   },
   "source": [
    "Keep in mind second delivery date column has null values"
   ]
  },
  {
   "cell_type": "markdown",
   "metadata": {
    "colab_type": "text",
    "id": "q74UH6U2Ogbl"
   },
   "source": [
    "## Calculate delivery time excluding public holidays and Sundays"
   ]
  },
  {
   "cell_type": "code",
   "execution_count": 30,
   "metadata": {
    "colab": {},
    "colab_type": "code",
    "id": "HWhGiAPnhUsB"
   },
   "outputs": [],
   "source": [
    "# Specify holidays (stated in problem statement)\n",
    "Holidays = [\n",
    "    \"2020-03-08\",\n",
    "    \"2020-03-25\",\n",
    "    \"2020-03-30\",\n",
    "    \"2020-03-31\"\n",
    "]"
   ]
  },
  {
   "cell_type": "code",
   "execution_count": 31,
   "metadata": {
    "colab": {},
    "colab_type": "code",
    "id": "LudUEYZeh5BR"
   },
   "outputs": [],
   "source": [
    "# Use numpy built-in function busyday_count to compute first delivery time  \n",
    "# Need to convert datetime values from datetime64[ns] to datetime64[D] to avoid errors\n",
    "\n",
    "df['first_delta'] = np.busday_count(\n",
    "        df.pickup.values.astype('datetime64[D]'),\n",
    "        df.first_deli.values.astype('datetime64[D]'),\n",
    "        weekmask=\"1111110\", # sunday is not working day\n",
    "        holidays=Holidays\n",
    "    )"
   ]
  },
  {
   "cell_type": "code",
   "execution_count": 32,
   "metadata": {
    "colab": {
     "base_uri": "https://localhost:8080/",
     "height": 499
    },
    "colab_type": "code",
    "id": "Iubr87fBsUA9",
    "outputId": "e364c61d-1608-481b-9c9f-d88410a6b721"
   },
   "outputs": [
    {
     "data": {
      "text/plain": [
       "2     1004958\n",
       "3      631824\n",
       "4      387945\n",
       "1      346224\n",
       "5      258857\n",
       "6      198729\n",
       "7      124060\n",
       "8       76819\n",
       "9       48728\n",
       "10      33421\n",
       "11      22302\n",
       "12      16435\n",
       "13      10885\n",
       "14       6053\n",
       "15       3877\n",
       "16       2079\n",
       "17        991\n",
       "0         709\n",
       "18        552\n",
       "19        322\n",
       "20        174\n",
       "21        159\n",
       "22         98\n",
       "23         57\n",
       "24         30\n",
       "25         16\n",
       "26          9\n",
       "Name: first_delta, dtype: int64"
      ]
     },
     "execution_count": 32,
     "metadata": {},
     "output_type": "execute_result"
    }
   ],
   "source": [
    "df.first_delta.value_counts()"
   ]
  },
  {
   "cell_type": "code",
   "execution_count": 33,
   "metadata": {
    "colab": {},
    "colab_type": "code",
    "id": "rvZjqoFct3on"
   },
   "outputs": [],
   "source": [
    "# Second delivery column has null values --> need to filter out null values\n",
    "notnulldates = df.second_deli.notna()"
   ]
  },
  {
   "cell_type": "code",
   "execution_count": 34,
   "metadata": {
    "colab": {},
    "colab_type": "code",
    "id": "RP2ytEOntG03"
   },
   "outputs": [],
   "source": [
    "# Compute second delivery time after filtering out null values\n",
    "\n",
    "second_delta = np.busday_count(\n",
    "        df.first_deli[notnulldates].values.astype('datetime64[D]'),\n",
    "        df.second_deli[notnulldates].values.astype('datetime64[D]'),\n",
    "        weekmask=\"1111110\", # sunday is not working day\n",
    "        holidays=Holidays\n",
    "    )"
   ]
  },
  {
   "cell_type": "code",
   "execution_count": 35,
   "metadata": {
    "colab": {},
    "colab_type": "code",
    "id": "xgEFaGxxvANF"
   },
   "outputs": [],
   "source": [
    "# Create a column for second delta in initial dataframe with null values\n",
    "df['second_delta'] = np.nan"
   ]
  },
  {
   "cell_type": "code",
   "execution_count": 36,
   "metadata": {
    "colab": {},
    "colab_type": "code",
    "id": "nhb3tG38uv2w"
   },
   "outputs": [],
   "source": [
    "# Update second_delta column with deltas for rows with non-null dates  \n",
    "df.loc[notnulldates, 'second_delta'] = second_delta"
   ]
  },
  {
   "cell_type": "code",
   "execution_count": 37,
   "metadata": {
    "colab": {
     "base_uri": "https://localhost:8080/",
     "height": 482
    },
    "colab_type": "code",
    "id": "JyP3mptWOgby",
    "outputId": "ea94c478-7efe-4690-a3ff-99dfb104ab82"
   },
   "outputs": [
    {
     "data": {
      "text/plain": [
       "1.0     464385\n",
       "3.0     327436\n",
       "2.0     219552\n",
       "4.0     212722\n",
       "5.0      58787\n",
       "6.0      36644\n",
       "7.0      29232\n",
       "8.0       4363\n",
       "9.0       1203\n",
       "10.0       700\n",
       "11.0       504\n",
       "12.0       363\n",
       "13.0       218\n",
       "14.0       216\n",
       "15.0       178\n",
       "16.0       123\n",
       "17.0       100\n",
       "18.0        79\n",
       "19.0        75\n",
       "21.0        39\n",
       "20.0        38\n",
       "22.0        26\n",
       "23.0        10\n",
       "24.0         7\n",
       "26.0         1\n",
       "25.0         1\n",
       "Name: second_delta, dtype: int64"
      ]
     },
     "execution_count": 37,
     "metadata": {},
     "output_type": "execute_result"
    }
   ],
   "source": [
    "df.second_delta.value_counts()"
   ]
  },
  {
   "cell_type": "code",
   "execution_count": 38,
   "metadata": {
    "colab": {
     "base_uri": "https://localhost:8080/",
     "height": 34
    },
    "colab_type": "code",
    "id": "o58v4kwMOgb7",
    "outputId": "e92c37c3-9278-4681-ad54-a58fef4940a5"
   },
   "outputs": [
    {
     "data": {
      "text/plain": [
       "1357002"
      ]
     },
     "execution_count": 38,
     "metadata": {},
     "output_type": "execute_result"
    }
   ],
   "source": [
    "df.second_delta.notna().sum()"
   ]
  },
  {
   "cell_type": "markdown",
   "metadata": {
    "colab_type": "text",
    "id": "b9_JvqomOgcL"
   },
   "source": [
    "## Compare delivery times with SLA to identify late deliveries"
   ]
  },
  {
   "cell_type": "code",
   "execution_count": 39,
   "metadata": {
    "colab": {
     "base_uri": "https://localhost:8080/",
     "height": 287
    },
    "colab_type": "code",
    "id": "p9eGObaew7KI",
    "outputId": "7427fbde-b105-4f11-fc5c-75ff045946b0"
   },
   "outputs": [
    {
     "data": {
      "text/html": [
       "<div>\n",
       "<style scoped>\n",
       "    .dataframe tbody tr th:only-of-type {\n",
       "        vertical-align: middle;\n",
       "    }\n",
       "\n",
       "    .dataframe tbody tr th {\n",
       "        vertical-align: top;\n",
       "    }\n",
       "\n",
       "    .dataframe thead th {\n",
       "        text-align: right;\n",
       "    }\n",
       "</style>\n",
       "<table border=\"1\" class=\"dataframe\">\n",
       "  <thead>\n",
       "    <tr style=\"text-align: right;\">\n",
       "      <th></th>\n",
       "      <th>orderid</th>\n",
       "      <th>pick</th>\n",
       "      <th>1st_deliver_attempt</th>\n",
       "      <th>2nd_deliver_attempt</th>\n",
       "      <th>buyer_location</th>\n",
       "      <th>seller_location</th>\n",
       "      <th>sla</th>\n",
       "      <th>pickup</th>\n",
       "      <th>first_deli</th>\n",
       "      <th>second_deli</th>\n",
       "      <th>first_delta</th>\n",
       "      <th>second_delta</th>\n",
       "    </tr>\n",
       "  </thead>\n",
       "  <tbody>\n",
       "    <tr>\n",
       "      <td>0</td>\n",
       "      <td>2215676524</td>\n",
       "      <td>1583138397</td>\n",
       "      <td>1.583385e+09</td>\n",
       "      <td>NaN</td>\n",
       "      <td>manila</td>\n",
       "      <td>manila</td>\n",
       "      <td>3.0</td>\n",
       "      <td>2020-03-02 16:39:57</td>\n",
       "      <td>2020-03-05 13:09:18</td>\n",
       "      <td>NaT</td>\n",
       "      <td>3</td>\n",
       "      <td>NaN</td>\n",
       "    </tr>\n",
       "    <tr>\n",
       "      <td>1</td>\n",
       "      <td>2219624609</td>\n",
       "      <td>1583309968</td>\n",
       "      <td>1.583463e+09</td>\n",
       "      <td>1.583799e+09</td>\n",
       "      <td>manila</td>\n",
       "      <td>manila</td>\n",
       "      <td>3.0</td>\n",
       "      <td>2020-03-04 16:19:28</td>\n",
       "      <td>2020-03-06 10:53:56</td>\n",
       "      <td>2020-03-10 08:02:56</td>\n",
       "      <td>2</td>\n",
       "      <td>3.0</td>\n",
       "    </tr>\n",
       "    <tr>\n",
       "      <td>2</td>\n",
       "      <td>2220979489</td>\n",
       "      <td>1583306434</td>\n",
       "      <td>1.583460e+09</td>\n",
       "      <td>NaN</td>\n",
       "      <td>manila</td>\n",
       "      <td>manila</td>\n",
       "      <td>3.0</td>\n",
       "      <td>2020-03-04 15:20:34</td>\n",
       "      <td>2020-03-06 09:56:19</td>\n",
       "      <td>NaT</td>\n",
       "      <td>2</td>\n",
       "      <td>NaN</td>\n",
       "    </tr>\n",
       "    <tr>\n",
       "      <td>3</td>\n",
       "      <td>2221066352</td>\n",
       "      <td>1583419016</td>\n",
       "      <td>1.583556e+09</td>\n",
       "      <td>NaN</td>\n",
       "      <td>manila</td>\n",
       "      <td>manila</td>\n",
       "      <td>3.0</td>\n",
       "      <td>2020-03-05 22:36:56</td>\n",
       "      <td>2020-03-07 12:45:41</td>\n",
       "      <td>NaT</td>\n",
       "      <td>2</td>\n",
       "      <td>NaN</td>\n",
       "    </tr>\n",
       "    <tr>\n",
       "      <td>4</td>\n",
       "      <td>2222478803</td>\n",
       "      <td>1583318305</td>\n",
       "      <td>1.583480e+09</td>\n",
       "      <td>NaN</td>\n",
       "      <td>luzon</td>\n",
       "      <td>manila</td>\n",
       "      <td>5.0</td>\n",
       "      <td>2020-03-04 18:38:25</td>\n",
       "      <td>2020-03-06 15:41:40</td>\n",
       "      <td>NaT</td>\n",
       "      <td>2</td>\n",
       "      <td>NaN</td>\n",
       "    </tr>\n",
       "  </tbody>\n",
       "</table>\n",
       "</div>"
      ],
      "text/plain": [
       "      orderid        pick  1st_deliver_attempt  2nd_deliver_attempt  \\\n",
       "0  2215676524  1583138397         1.583385e+09                  NaN   \n",
       "1  2219624609  1583309968         1.583463e+09         1.583799e+09   \n",
       "2  2220979489  1583306434         1.583460e+09                  NaN   \n",
       "3  2221066352  1583419016         1.583556e+09                  NaN   \n",
       "4  2222478803  1583318305         1.583480e+09                  NaN   \n",
       "\n",
       "  buyer_location seller_location  sla              pickup          first_deli  \\\n",
       "0         manila          manila  3.0 2020-03-02 16:39:57 2020-03-05 13:09:18   \n",
       "1         manila          manila  3.0 2020-03-04 16:19:28 2020-03-06 10:53:56   \n",
       "2         manila          manila  3.0 2020-03-04 15:20:34 2020-03-06 09:56:19   \n",
       "3         manila          manila  3.0 2020-03-05 22:36:56 2020-03-07 12:45:41   \n",
       "4          luzon          manila  5.0 2020-03-04 18:38:25 2020-03-06 15:41:40   \n",
       "\n",
       "          second_deli  first_delta  second_delta  \n",
       "0                 NaT            3           NaN  \n",
       "1 2020-03-10 08:02:56            2           3.0  \n",
       "2                 NaT            2           NaN  \n",
       "3                 NaT            2           NaN  \n",
       "4                 NaT            2           NaN  "
      ]
     },
     "execution_count": 39,
     "metadata": {},
     "output_type": "execute_result"
    }
   ],
   "source": [
    "df.head()"
   ]
  },
  {
   "cell_type": "code",
   "execution_count": 40,
   "metadata": {
    "colab": {},
    "colab_type": "code",
    "id": "oUHDgoKcwzdM"
   },
   "outputs": [],
   "source": [
    "# Delivery is late when first delivery is longer than SLA or when second delivery is more than 3 days  \n",
    "df['is_late'] = (df.first_delta > df.sla) | (df.second_delta > 3)"
   ]
  },
  {
   "cell_type": "code",
   "execution_count": 41,
   "metadata": {
    "colab": {},
    "colab_type": "code",
    "id": "UQQMJMrcyVsh"
   },
   "outputs": [],
   "source": [
    "# Convert booleans to 1 and 0\n",
    "df['is_late'] = df['is_late'].astype('int')"
   ]
  },
  {
   "cell_type": "code",
   "execution_count": 42,
   "metadata": {
    "colab": {
     "base_uri": "https://localhost:8080/",
     "height": 69
    },
    "colab_type": "code",
    "id": "EaxxBlv9w0cd",
    "outputId": "0354553c-8218-4d69-e4bc-109debf97015"
   },
   "outputs": [
    {
     "data": {
      "text/plain": [
       "0    2413891\n",
       "1     762422\n",
       "Name: is_late, dtype: int64"
      ]
     },
     "execution_count": 42,
     "metadata": {},
     "output_type": "execute_result"
    }
   ],
   "source": [
    "df['is_late'].value_counts()"
   ]
  },
  {
   "cell_type": "markdown",
   "metadata": {
    "colab_type": "text",
    "id": "vMobUuAtzKx2"
   },
   "source": [
    "There are 762,422 late orders!"
   ]
  },
  {
   "cell_type": "markdown",
   "metadata": {
    "colab_type": "text",
    "id": "FImUkAHNOgdr"
   },
   "source": [
    "## Prepare submission file "
   ]
  },
  {
   "cell_type": "code",
   "execution_count": 43,
   "metadata": {
    "colab": {},
    "colab_type": "code",
    "id": "-kOLNJfNzche"
   },
   "outputs": [],
   "source": [
    "df[[\"orderid\", \"is_late\"]].to_csv('solution.csv', index=False, header=True)"
   ]
  }
 ],
 "metadata": {
  "colab": {
   "collapsed_sections": [],
   "name": "Logistics.ipynb",
   "provenance": []
  },
  "kernelspec": {
   "display_name": "Python 3",
   "language": "python",
   "name": "python3"
  },
  "language_info": {
   "codemirror_mode": {
    "name": "ipython",
    "version": 3
   },
   "file_extension": ".py",
   "mimetype": "text/x-python",
   "name": "python",
   "nbconvert_exporter": "python",
   "pygments_lexer": "ipython3",
   "version": "3.7.4"
  }
 },
 "nbformat": 4,
 "nbformat_minor": 1
}
